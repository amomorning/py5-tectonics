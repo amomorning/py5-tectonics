{
 "cells": [
  {
   "cell_type": "code",
   "id": "initial_id",
   "metadata": {
    "collapsed": true
   },
   "source": [
    "import trimesh\n",
    "import random\n",
    "from collections import defaultdict\n",
    "import copy\n",
    "import matplotlib.pyplot as plt\n",
    "import numpy as np\n",
    "from geometry.helper import voxelize, voxel_extents, voxel_neighbor, voxel_dir, voxel_face"
   ],
   "outputs": [],
   "execution_count": null
  },
  {
   "metadata": {},
   "cell_type": "code",
   "source": [
    "def check(code):\n",
    "    mxz = max([x[2] for x in code])\n",
    "    if mxz < 4: return False\n",
    "\n",
    "    cnt = 0\n",
    "    for x, y, z in code:\n",
    "        if z == 0: cnt += 1\n",
    "    if cnt < 3: return False\n",
    "    return True\n",
    "\n",
    "# dirs = [(1, 0, 0), (-1, 0, 0), (0, 1, 0), (0, -1, 0), (0, 0, 1), (0, 0, -1)]\n",
    "dirs = [(1, 0, 0), (0, 1, 0), (0, 0, 1), (-1, 0, 0), (0, -1, 0)]\n",
    "def rec(pos, rest):\n",
    "    global cur, types\n",
    "    if rest == 0:\n",
    "        return 1\n",
    "    tot = 0\n",
    "    for dx, dy, dz in dirs:\n",
    "        x, y, z = pos[0] + dx, pos[1] + dy, pos[2] + dz\n",
    "        if (x, y, z) in cur:\n",
    "            continue\n",
    "        # structure constraints\n",
    "        # if z > 0 and (x, y, z-1) not in cur:\n",
    "        #     continue\n",
    "        cur.append((x, y, z))\n",
    "        tot += rec((x, y, z), rest - 1)\n",
    "        if check(cur):\n",
    "            types.append(copy.deepcopy(cur))\n",
    "        cur.pop()\n",
    "    return tot"
   ],
   "id": "a04d4dd942e2d55b",
   "outputs": [],
   "execution_count": null
  },
  {
   "metadata": {},
   "cell_type": "code",
   "source": [
    "cur = []\n",
    "types = []\n",
    "\n",
    "rec((0, 0, 0), 10)"
   ],
   "id": "e263cf969789a8f5",
   "outputs": [],
   "execution_count": null
  },
  {
   "metadata": {},
   "cell_type": "code",
   "source": "len(types)",
   "id": "1563a8635d6da086",
   "outputs": [],
   "execution_count": null
  },
  {
   "metadata": {},
   "cell_type": "code",
   "source": [
    "count_box = defaultdict(lambda: 0)\n",
    "\n",
    "for t in types:\n",
    "    count_box[len(t)] += 1\n",
    "\n",
    "plt.pie(count_box.values(), labels=count_box.keys());"
   ],
   "id": "339fd91bc894340a",
   "outputs": [],
   "execution_count": null
  },
  {
   "metadata": {},
   "cell_type": "code",
   "source": [
    "def mesh_wireframe(mesh: trimesh.Trimesh, angle_threshold=-0.0, color=(0, 0, 0)):\n",
    "    is_large_angle = mesh.face_adjacency_angles >= angle_threshold\n",
    "    large_angle_edges = trimesh.load_path(mesh.vertices[mesh.face_adjacency_edges[is_large_angle]])\n",
    "\n",
    "    mesh_outline = mesh.outline()\n",
    "\n",
    "    all_edges = trimesh.path.util.concatenate([large_angle_edges, mesh_outline])\n",
    "\n",
    "    for edge in all_edges.entities:\n",
    "        edge.color = color\n",
    "\n",
    "    return all_edges"
   ],
   "id": "89742a91a64a28c",
   "outputs": [],
   "execution_count": null
  },
  {
   "metadata": {},
   "cell_type": "code",
   "source": [
    "def get_box_type(code):\n",
    "    boxes = []\n",
    "    wireframes = []\n",
    "    for x, y, z in code:\n",
    "        box = trimesh.creation.box(extents=[1, 1, 1])\n",
    "        box.apply_translation((x, y, z))\n",
    "        wireframes.append(mesh_wireframe(box, 0.1))\n",
    "        color = trimesh.visual.random_color()\n",
    "        for fid in range(len(box.faces)):\n",
    "            box.visual.face_colors[fid] = color\n",
    "        boxes.append(box)\n",
    "    return boxes, wireframes"
   ],
   "id": "8ed70b61b844e718",
   "outputs": [],
   "execution_count": null
  },
  {
   "metadata": {},
   "cell_type": "code",
   "source": "",
   "id": "1fa9924ae3b4eb09",
   "outputs": [],
   "execution_count": null
  },
  {
   "metadata": {},
   "cell_type": "code",
   "source": [
    "rnd = random.randint(0, len(types)-1)\n",
    "m, bt = voxelize(types[rnd])\n",
    "b, w = get_box_type(types[rnd])\n",
    "\n",
    "trimesh.Scene().show()"
   ],
   "id": "fee075586b2435ea",
   "outputs": [],
   "execution_count": null
  },
  {
   "metadata": {},
   "cell_type": "code",
   "source": [
    "scene = trimesh.Scene()\n",
    "m, bt = voxelize(types[rnd])\n",
    "b, w = get_box_type(types[rnd])\n",
    "scene.add_geometry(voxel_neighbor(m, bt))\n",
    "scene.export('box.obj');\n"
   ],
   "id": "8b90bc7f70a00eac",
   "outputs": [],
   "execution_count": null
  },
  {
   "metadata": {},
   "cell_type": "code",
   "source": [
    "rnd = random.randint(0, len(types)-1)\n",
    "b, w = get_box_type(types[rnd])\n",
    "mn, mx = voxel_extents(types[rnd])\n",
    "outer_box = trimesh.creation.box(extents=[mx[i] - mn[i] + 1 for i in range(3)])\n",
    "outer_box.apply_translation([(mn[i] + mx[i]) / 2 for i in range(3)])\n",
    "outer_wireframe = mesh_wireframe(outer_box, 0.1)\n",
    "trimesh.Scene(b+w+[outer_wireframe]).show()"
   ],
   "id": "5729d9ad76746205",
   "outputs": [],
   "execution_count": null
  },
  {
   "metadata": {},
   "cell_type": "code",
   "source": [
    "def distance(p1, p2):\n",
    "    return sum([abs(p1[i] - p2[i]) for i in range(3)])\n",
    "\n",
    "def count_inner(code):\n",
    "    tot = 0\n",
    "    for i, c1 in enumerate(code):\n",
    "        for j, c2 in enumerate(code):\n",
    "            if distance(c1, c2) == 1:\n",
    "                print(c1, c2, distance(c1, c2))\n",
    "                tot += 1\n",
    "\n",
    "    return tot\n",
    "\n",
    "6*len(types[rnd]) - count_inner(types[rnd])"
   ],
   "id": "9b562678a67952",
   "outputs": [],
   "execution_count": null
  },
  {
   "metadata": {},
   "cell_type": "code",
   "source": [
    "def occupy(code):\n",
    "    mn, mx = voxel_extents(code)\n",
    "    volume = (mx[0] - mn[0] + 1) * (mx[1] - mn[1] + 1) * (mx[2] - mn[2] + 1)\n",
    "    return len(code) / volume\n",
    "\n",
    "profiles = {}\n",
    "for i, code in enumerate(types):\n",
    "    mn, mx = voxel_extents(code)\n",
    "    profiles[i] = {\n",
    "        'occupy': occupy(code),\n",
    "        'min_dimension': min([mx[i] - mn[i] + 1 for i in range(3)]),\n",
    "    }"
   ],
   "id": "47feade8f860fdc8",
   "outputs": [],
   "execution_count": null
  },
  {
   "metadata": {},
   "cell_type": "code",
   "source": [
    "filtered_types = []\n",
    "for i in profiles:\n",
    "    if profiles[i]['occupy'] >= 0.5 and profiles[i]['min_dimension'] > 1:\n",
    "        filtered_types.append(types[i])\n",
    "\n",
    "print(len(filtered_types))\n",
    "\n",
    "\n",
    "rnd = random.randint(0, len(filtered_types)-1)\n",
    "b, w = get_box_type(filtered_types[rnd])\n",
    "mn, mx = voxel_extents(filtered_types[rnd])\n",
    "outer_box = trimesh.creation.box(extents=[mx[i] - mn[i] + 1 for i in range(3)])\n",
    "outer_box.apply_translation([(mn[i] + mx[i]) / 2 for i in range(3)])\n",
    "outer_wireframe = mesh_wireframe(outer_box, 0.1)\n",
    "trimesh.Scene(b+w+[outer_wireframe]).show()\n"
   ],
   "id": "90250d2ad7faf03b",
   "outputs": [],
   "execution_count": null
  },
  {
   "metadata": {},
   "cell_type": "code",
   "source": [
    "box = trimesh.creation.box(extents=(1, 1, 1))\n",
    "\n",
    "\n",
    "print(len(box.facets))\n",
    "for i in range(12):\n",
    "    box.visual.face_colors[i] = trimesh.visual.random_color()\n",
    "\n"
   ],
   "id": "e763364be1550d72",
   "outputs": [],
   "execution_count": null
  },
  {
   "metadata": {},
   "cell_type": "code",
   "source": [
    "def discrete_box(code):\n",
    "    d = 0.05\n",
    "\n",
    "    boxes = []\n",
    "    for i in range(3):\n",
    "        for j in range(2):\n",
    "            for dx, dy in [(0, 0), (0, 1), (1, 1), (1, 0)]:\n",
    "                box = trimesh.creation.box(extents = voxel_dir(d)[i])\n",
    "                hole = trimesh.creation.box(extents = voxel_dir(d, 0.25)[i])\n",
    "                box = box.difference(hole)\n",
    "                box.apply_translation(voxel_dir(d)[i]/2 + voxel_dir(1-d, 0)[i]*j + voxel_dir(0, x=dx, y=dy)[i])\n",
    "                boxes.append(box)\n",
    "    wireframes = []\n",
    "    for b in boxes:\n",
    "        b.apply_translation(code)\n",
    "        wireframes.append(mesh_wireframe(b, 0.1))\n",
    "        # color = trimesh.visual.random_color()\n",
    "        # for i in b.faces:\n",
    "        #     b.visual.face_colors[i] = color\n",
    "    return boxes, wireframes\n",
    "\n",
    "\n",
    "\n",
    "type_ = [(0, -1, 0), (0, -2, 0), (-1, -2, 0), (-1, -2, 1), (0, -2, 1), (0, -2, 2)]\n",
    "scene = trimesh.Scene()\n",
    "for c in type_:\n",
    "    boxes, wireframes = discrete_box(c)\n",
    "    scene.add_geometry(boxes)\n",
    "    scene.add_geometry(wireframes)\n",
    "\n",
    "scene.show()\n",
    "\n"
   ],
   "id": "820a30d47d5e0716",
   "outputs": [],
   "execution_count": null
  },
  {
   "metadata": {},
   "cell_type": "code",
   "source": "types[rnd]",
   "id": "8cabef83ee74f857",
   "outputs": [],
   "execution_count": null
  }
 ],
 "metadata": {
  "kernelspec": {
   "display_name": "Python 3",
   "language": "python",
   "name": "python3"
  },
  "language_info": {
   "codemirror_mode": {
    "name": "ipython",
    "version": 2
   },
   "file_extension": ".py",
   "mimetype": "text/x-python",
   "name": "python",
   "nbconvert_exporter": "python",
   "pygments_lexer": "ipython2",
   "version": "2.7.6"
  }
 },
 "nbformat": 4,
 "nbformat_minor": 5
}
