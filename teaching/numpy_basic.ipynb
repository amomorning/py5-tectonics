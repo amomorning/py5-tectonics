{
 "cells": [
  {
   "metadata": {},
   "cell_type": "code",
   "source": [
    "import numpy as np\n",
    "import matplotlib.pyplot as plt"
   ],
   "id": "55ad925f82bb39cd",
   "outputs": [],
   "execution_count": null
  },
  {
   "metadata": {},
   "cell_type": "markdown",
   "source": "## 数据类型",
   "id": "f793180498cceab6"
  },
  {
   "cell_type": "code",
   "id": "initial_id",
   "metadata": {
    "collapsed": true
   },
   "source": [
    ""
   ],
   "outputs": [],
   "execution_count": null
  },
  {
   "metadata": {},
   "cell_type": "markdown",
   "source": [
    "## 算法复杂度\n",
    "### 时间复杂度 Time Complexity\n",
    "- O(1) 常数时间\n",
    "- O(log n) 对数时间\n",
    "- O(n) 线性时间\n",
    "- O(n log n) 线性对数时间\n",
    "- O(n^2) 平方时间\n",
    "- O(n^3) 立方时间\n",
    "- O(2^n) 指数时间 - 摩尔定律 Moore's Law - 硅片上的原子数目，每 18 个月翻一倍"
   ],
   "id": "1f792165a41c37f3"
  },
  {
   "metadata": {},
   "cell_type": "code",
   "source": [
    "x = np.linspace(0.01, 10, 100) # 0.01 to 10, 100 points\n",
    "# x = np.linspace(0.01, 15, 100)\n",
    "plt.plot(x, np.log(x), label='O(log n)')\n",
    "plt.plot(x, x, label='O(n)')\n",
    "plt.plot(x, x * np.log(x), label='O(n log n)')\n",
    "plt.plot(x, x**2, label='O(n^2)')\n",
    "plt.plot(x, x**3, label='O(n^3)')\n",
    "plt.plot(x, 2**x, label='O(2^n)')\n",
    "plt.legend()\n",
    "plt.show()"
   ],
   "id": "8604ab6554faa8e1",
   "outputs": [],
   "execution_count": null
  },
  {
   "metadata": {},
   "cell_type": "markdown",
   "source": "",
   "id": "3b10eb2088585ab8"
  }
 ],
 "metadata": {
  "kernelspec": {
   "display_name": "Python 3",
   "language": "python",
   "name": "python3"
  },
  "language_info": {
   "codemirror_mode": {
    "name": "ipython",
    "version": 2
   },
   "file_extension": ".py",
   "mimetype": "text/x-python",
   "name": "python",
   "nbconvert_exporter": "python",
   "pygments_lexer": "ipython2",
   "version": "2.7.6"
  }
 },
 "nbformat": 4,
 "nbformat_minor": 5
}
