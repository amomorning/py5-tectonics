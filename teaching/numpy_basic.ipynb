{
 "cells": [
  {
   "metadata": {},
   "cell_type": "code",
   "source": [
    "import numpy as np\n",
    "import matplotlib.pyplot as plt"
   ],
   "id": "55ad925f82bb39cd",
   "outputs": [],
   "execution_count": null
  },
  {
   "metadata": {},
   "cell_type": "markdown",
   "source": [
    "## 数据类型\n",
    "\n",
    "### 整型数据 `int`, `np.int32`, `np.int64`"
   ],
   "id": "f793180498cceab6"
  },
  {
   "metadata": {},
   "cell_type": "code",
   "source": "",
   "id": "b9f62d151b340e4d",
   "outputs": [],
   "execution_count": null
  },
  {
   "metadata": {},
   "cell_type": "markdown",
   "source": [
    "### 浮点型数据 `float`, `np.float32`, `np.float64`\n",
    "- `float` → `np.float64` 双精度浮点数据，对应 Java/C 的 `double`"
   ],
   "id": "c69bd14d7165fdf7"
  },
  {
   "cell_type": "code",
   "id": "initial_id",
   "metadata": {
    "collapsed": true
   },
   "source": [
    "a = np.array([3.14], dtype=float)\n",
    "a.dtype"
   ],
   "outputs": [],
   "execution_count": null
  },
  {
   "metadata": {},
   "cell_type": "code",
   "outputs": [],
   "execution_count": null,
   "source": [
    "# 转换float32为二进制\n",
    "x = np.float32(3.14)\n",
    "binary_32 = np.binary_repr(x.view(np.uint32), width=32)\n",
    "print(\"float32二进制表示:\", binary_32)\n",
    "\n",
    "# 转换float64为二进制\n",
    "y = np.float64(3.14)\n",
    "binary_64 = np.binary_repr(y.view(np.uint64), width=64)\n",
    "print(\"float64二进制表示:\", binary_64)"
   ],
   "id": "a8a447fa89d56b08"
  },
  {
   "metadata": {},
   "cell_type": "code",
   "outputs": [],
   "execution_count": null,
   "source": [
    "import struct\n",
    "\n",
    "# 将浮点数转换为 64 位二进制字符串表示\n",
    "def float_to_bin(f):\n",
    "    # 使用大端字节序（网络字节序），'!d' 表示双精度浮点数\n",
    "    packed = struct.pack('!d', f)\n",
    "    return ''.join(f'{byte:08b}' for byte in packed)\n",
    "\n",
    "# 将 64 位二进制字符串转换回浮点数\n",
    "def bin_to_float(b):\n",
    "    # b 应为长度为 64 的二进制字符串\n",
    "    int_val = int(b, 2)\n",
    "    # 将整数转换为 8 个字节\n",
    "    byte_val = int_val.to_bytes(8, byteorder='big')\n",
    "    return struct.unpack('!d', byte_val)[0]\n",
    "\n",
    "f = 3.14\n",
    "binary_rep = float_to_bin(f)\n",
    "print(\"浮点数的二进制表示：\", binary_rep)\n",
    "\n",
    "# 将二进制表示转换回浮点数\n",
    "converted_float = bin_to_float(binary_rep)\n",
    "print(\"转换回来的浮点数：\", converted_float)\n"
   ],
   "id": "4b619d605cee6cfd"
  },
  {
   "metadata": {},
   "cell_type": "markdown",
   "source": [
    "## 算法复杂度\n",
    "### 时间复杂度 Time Complexity\n",
    "- O(1) 常数时间\n",
    "- O(log n) 对数时间\n",
    "- O(n) 线性时间\n",
    "- O(n log n) 线性对数时间\n",
    "- O(n^2) 平方时间\n",
    "- O(n^3) 立方时间\n",
    "- O(2^n) 指数时间 - 摩尔定律 Moore's Law - 硅片上的原子数目，每 18 个月翻一倍"
   ],
   "id": "1f792165a41c37f3"
  },
  {
   "metadata": {},
   "cell_type": "code",
   "source": [
    "max_x = 10  # 15\n",
    "x = np.linspace(0.01, 10, 100) # 0.01 to 10, 100 points\n",
    "\n",
    "plt.plot(x, np.log(x), label='O(log n)')\n",
    "plt.plot(x, x, label='O(n)')\n",
    "plt.plot(x, x * np.log(x), label='O(n log n)')\n",
    "plt.plot(x, x**2, label='O(n^2)')\n",
    "plt.plot(x, x**3, label='O(n^3)')\n",
    "plt.plot(x, 2**x, label='O(2^n)')\n",
    "plt.legend()\n",
    "plt.show()"
   ],
   "id": "8604ab6554faa8e1",
   "outputs": [],
   "execution_count": null
  },
  {
   "metadata": {},
   "cell_type": "markdown",
   "source": "",
   "id": "3b10eb2088585ab8"
  }
 ],
 "metadata": {
  "kernelspec": {
   "display_name": "Python 3",
   "language": "python",
   "name": "python3"
  },
  "language_info": {
   "codemirror_mode": {
    "name": "ipython",
    "version": 2
   },
   "file_extension": ".py",
   "mimetype": "text/x-python",
   "name": "python",
   "nbconvert_exporter": "python",
   "pygments_lexer": "ipython2",
   "version": "2.7.6"
  }
 },
 "nbformat": 4,
 "nbformat_minor": 5
}
