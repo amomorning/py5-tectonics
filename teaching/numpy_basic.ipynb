{
 "cells": [
  {
   "metadata": {},
   "cell_type": "code",
   "source": [
    "import numpy as np\n",
    "import matplotlib.pyplot as plt"
   ],
   "id": "55ad925f82bb39cd",
   "outputs": [],
   "execution_count": null
  },
  {
   "metadata": {},
   "cell_type": "markdown",
   "source": [
    "## 数据类型\n",
    "\n",
    "### 整型数据 `int`, `np.int32`, `np.int64`"
   ],
   "id": "f793180498cceab6"
  },
  {
   "metadata": {},
   "cell_type": "code",
   "source": "",
   "id": "b9f62d151b340e4d",
   "outputs": [],
   "execution_count": null
  },
  {
   "metadata": {},
   "cell_type": "markdown",
   "source": [
    "### 浮点型数据 `float`, `np.float32`, `np.float64`\n",
    "- `float` → `np.float64` 双精度浮点数据，对应 Java/C 的 `double`"
   ],
   "id": "c69bd14d7165fdf7"
  },
  {
   "cell_type": "code",
   "id": "initial_id",
   "metadata": {
    "collapsed": true
   },
   "source": [
    "a = np.array([3.14], dtype=float)\n",
    "a.dtype"
   ],
   "outputs": [],
   "execution_count": null
  },
  {
   "metadata": {},
   "cell_type": "markdown",
   "source": [
    "## 算法复杂度\n",
    "### 时间复杂度 Time Complexity\n",
    "- O(1) 常数时间\n",
    "- O(log n) 对数时间\n",
    "- O(n) 线性时间\n",
    "- O(n log n) 线性对数时间\n",
    "- O(n^2) 平方时间\n",
    "- O(n^3) 立方时间\n",
    "- O(2^n) 指数时间 - 摩尔定律 Moore's Law - 硅片上的原子数目，每 18 个月翻一倍"
   ],
   "id": "1f792165a41c37f3"
  },
  {
   "metadata": {},
   "cell_type": "code",
   "source": [
    "max_x = 10  # 15\n",
    "x = np.linspace(0.01, 10, 100) # 0.01 to 10, 100 points\n",
    "\n",
    "plt.plot(x, np.log(x), label='O(log n)')\n",
    "plt.plot(x, x, label='O(n)')\n",
    "plt.plot(x, x * np.log(x), label='O(n log n)')\n",
    "plt.plot(x, x**2, label='O(n^2)')\n",
    "plt.plot(x, x**3, label='O(n^3)')\n",
    "plt.plot(x, 2**x, label='O(2^n)')\n",
    "plt.legend()\n",
    "plt.show()"
   ],
   "id": "8604ab6554faa8e1",
   "outputs": [],
   "execution_count": null
  },
  {
   "metadata": {},
   "cell_type": "markdown",
   "source": "",
   "id": "3b10eb2088585ab8"
  }
 ],
 "metadata": {
  "kernelspec": {
   "display_name": "Python 3",
   "language": "python",
   "name": "python3"
  },
  "language_info": {
   "codemirror_mode": {
    "name": "ipython",
    "version": 2
   },
   "file_extension": ".py",
   "mimetype": "text/x-python",
   "name": "python",
   "nbconvert_exporter": "python",
   "pygments_lexer": "ipython2",
   "version": "2.7.6"
  }
 },
 "nbformat": 4,
 "nbformat_minor": 5
}
