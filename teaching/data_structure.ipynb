{
 "cells": [
  {
   "cell_type": "code",
   "id": "initial_id",
   "metadata": {
    "collapsed": true
   },
   "source": "import random",
   "outputs": [],
   "execution_count": null
  },
  {
   "metadata": {},
   "cell_type": "markdown",
   "source": [
    "## 基本数据结构\n",
    "### 内置数据结构\n",
    "- `list`\n",
    "- `tuple`\n",
    "- `dict`\n",
    "- `set`\n",
    "\n",
    "### `namedtuple` 结构化数据\n",
    "支持`.`访问的结构化数据\n"
   ],
   "id": "5df4a03f35052d41"
  },
  {
   "metadata": {},
   "cell_type": "code",
   "source": [
    "from collections import namedtuple\n",
    "Vector = namedtuple(\"Vector\", ['x', 'y'])\n",
    "\n",
    "v = Vector(1, 2)\n",
    "v.y\n"
   ],
   "id": "9a78b22e9932806f",
   "outputs": [],
   "execution_count": null
  },
  {
   "metadata": {},
   "cell_type": "markdown",
   "source": [
    "### `deque` 双端队列\n",
    "\n",
    "回顾一下 `list`"
   ],
   "id": "bb66b60c42fd1a1d"
  },
  {
   "metadata": {},
   "cell_type": "code",
   "source": "arr = [1, 2, 3, 4, 5]",
   "id": "da68ede14da25a47",
   "outputs": [],
   "execution_count": null
  },
  {
   "metadata": {},
   "cell_type": "code",
   "source": [
    "num = random.randint(0, 10)\n",
    "arr.append(num)\n",
    "num"
   ],
   "id": "d0837090c925fd30",
   "outputs": [],
   "execution_count": null
  },
  {
   "metadata": {},
   "cell_type": "code",
   "source": "arr.pop()",
   "id": "606bbc2fed893c50",
   "outputs": [],
   "execution_count": null
  },
  {
   "metadata": {},
   "cell_type": "code",
   "source": "arr",
   "id": "653d3e363a0a7343",
   "outputs": [],
   "execution_count": null
  },
  {
   "metadata": {},
   "cell_type": "markdown",
   "source": "`deque` 提供了 `popleft`",
   "id": "592095819be9c5bf"
  },
  {
   "metadata": {},
   "cell_type": "code",
   "source": [
    "from collections import deque\n",
    "deq = deque([1, 2, 3, 4, 5])"
   ],
   "id": "e8345d4a1e4871d9",
   "outputs": [],
   "execution_count": null
  },
  {
   "metadata": {},
   "cell_type": "code",
   "source": [
    "num = random.randint(0, 10)\n",
    "deq.appendleft(num)\n",
    "num"
   ],
   "id": "871f881a4f0543b2",
   "outputs": [],
   "execution_count": null
  },
  {
   "metadata": {},
   "cell_type": "code",
   "source": "deq.popleft()",
   "id": "629cc9ccb96a788b",
   "outputs": [],
   "execution_count": null
  },
  {
   "metadata": {},
   "cell_type": "code",
   "source": [
    "deq.rotate(2)\n",
    "deq"
   ],
   "id": "50f91e2a08043e42",
   "outputs": [],
   "execution_count": null
  },
  {
   "metadata": {},
   "cell_type": "code",
   "source": [
    "deq.rotate(-3)\n",
    "deq"
   ],
   "id": "2e211f82922236d9",
   "outputs": [],
   "execution_count": null
  },
  {
   "metadata": {},
   "cell_type": "code",
   "source": "deq",
   "id": "24050816163add34",
   "outputs": [],
   "execution_count": null
  },
  {
   "metadata": {},
   "cell_type": "markdown",
   "source": [
    "### `defaultdict` 默认字典\n",
    "- 定义 Graph 非常有用"
   ],
   "id": "5211a143ab0d8001"
  },
  {
   "metadata": {},
   "cell_type": "code",
   "source": "edges = [(1, 2), (1, 3), (2, 4)]",
   "id": "bebc20222bbd9b43",
   "outputs": [],
   "execution_count": null
  },
  {
   "metadata": {},
   "cell_type": "code",
   "source": [
    "from collections import defaultdict\n",
    "G = defaultdict(list)\n",
    "\n",
    "for u, v in edges:\n",
    "    G[u].append(v)\n",
    "G"
   ],
   "id": "c83907de26708058",
   "outputs": [],
   "execution_count": null
  },
  {
   "metadata": {},
   "cell_type": "code",
   "source": [
    "G = {}\n",
    "for u, v in edges:\n",
    "    if u not in G:\n",
    "        G[u] = []\n",
    "    G[u].append(v)"
   ],
   "id": "45698a8c2e12b1fd",
   "outputs": [],
   "execution_count": null
  },
  {
   "metadata": {},
   "cell_type": "code",
   "source": [
    "counter = defaultdict(lambda: 0)\n",
    "\n",
    "for u, v in edges:\n",
    "    counter[u] += 1\n",
    "    counter[v] += 1\n",
    "counter"
   ],
   "id": "a0f6b80b17a8ea89",
   "outputs": [],
   "execution_count": null
  },
  {
   "metadata": {},
   "cell_type": "markdown",
   "source": [
    "## 递归\n",
    "### `stack` 栈\n",
    "\n",
    "![](https://imgsa.baidu.com/forum/pic/item/1af8079759ee3d6d068ac76242166d224e4ade14.jpg)\n",
    "\n",
    "递归函数在调用时会隐式使用 **调用栈(Call Stack)** 来管理函数状态："
   ],
   "id": "2dd7ab2d573158e1"
  },
  {
   "metadata": {},
   "cell_type": "code",
   "source": [
    "def factorial(n):\n",
    "    if n == 0:\n",
    "        return 1\n",
    "    return n * factorial(n-1)\n",
    "\n",
    "factorial(10000)\n",
    "# 3 * factorial(2)\n",
    "# 2 * factorial(1)\n",
    "# 1 * factorial(0) == 1 * 1"
   ],
   "id": "e851072426a4a795",
   "outputs": [],
   "execution_count": null
  },
  {
   "metadata": {},
   "cell_type": "code",
   "source": [
    "def factorial_iterative(n):\n",
    "    m = n\n",
    "    stack = []\n",
    "    result = 1\n",
    "    while n > 0:\n",
    "        stack.append(n) # 入栈\n",
    "        n -= 1\n",
    "    assert stack == list(range(m, 0, -1))\n",
    "    while stack:\n",
    "        result *= stack.pop() # 出栈\n",
    "    return result\n",
    "\n",
    "factorial_iterative(3)"
   ],
   "id": "64a977bf3add40bb",
   "outputs": [],
   "execution_count": null
  },
  {
   "metadata": {},
   "cell_type": "markdown",
   "source": "### hanoi 汉诺塔",
   "id": "fbd246282e8d798"
  },
  {
   "metadata": {},
   "cell_type": "code",
   "source": [
    "def hanoi(n, source, by, target):\n",
    "    if n == 1:\n",
    "        print(f\"{source} --> {target}\")\n",
    "    else:\n",
    "        hanoi(n-1, source, target, by)\n",
    "        hanoi(1, source, by, target)\n",
    "        hanoi(n-1, by, source, target)\n",
    "\n",
    "hanoi(3, 'A', 'B', 'C')"
   ],
   "id": "93a969ab894f7964",
   "outputs": [],
   "execution_count": null
  },
  {
   "metadata": {},
   "cell_type": "markdown",
   "source": [
    "## 参考阅读\n",
    "- [Introduction to Computation and Programming Using Python](http://repo.darmajaya.ac.id/5070/1/Introduction%20to%20Computation%20and%20Programming%20Using%20Python%20by%20John%20V.%20Guttag%20%28z-lib.org%29.pdf)\n",
    "- [PEP 8 – Style Guide for Python Code \\| peps.python.org](https://peps.python.org/pep-0008/)\n",
    "- [About fluentpython.com \\| Fluent Python, the lizard book](https://www.fluentpython.com/about/)\n",
    "- [visualising data structures and algorithms through animation - VisuAlgo](https://visualgo.net/en)"
   ],
   "id": "cc1520383291bdc8"
  }
 ],
 "metadata": {
  "kernelspec": {
   "display_name": "Python 3",
   "language": "python",
   "name": "python3"
  },
  "language_info": {
   "codemirror_mode": {
    "name": "ipython",
    "version": 2
   },
   "file_extension": ".py",
   "mimetype": "text/x-python",
   "name": "python",
   "nbconvert_exporter": "python",
   "pygments_lexer": "ipython2",
   "version": "2.7.6"
  }
 },
 "nbformat": 4,
 "nbformat_minor": 5
}
