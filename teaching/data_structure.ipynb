{
 "cells": [
  {
   "cell_type": "code",
   "id": "initial_id",
   "metadata": {
    "collapsed": true,
    "ExecuteTime": {
     "end_time": "2025-02-26T14:29:10.810993Z",
     "start_time": "2025-02-26T14:29:10.807261Z"
    }
   },
   "source": "import random",
   "outputs": [],
   "execution_count": 94
  },
  {
   "metadata": {},
   "cell_type": "markdown",
   "source": [
    "## 基本数据结构\n",
    "### 内置数据结构\n",
    "- `list`\n",
    "- `tuple`\n",
    "- `dict`\n",
    "- `set`\n",
    "\n",
    "### `namedtuple` 结构化数据\n",
    "支持`.`访问的结构化数据"
   ],
   "id": "5df4a03f35052d41"
  },
  {
   "metadata": {
    "ExecuteTime": {
     "end_time": "2025-02-26T14:11:26.767465Z",
     "start_time": "2025-02-26T14:11:26.762596Z"
    }
   },
   "cell_type": "code",
   "source": [
    "from collections import namedtuple\n",
    "Vector = namedtuple(\"Vector\", ['x', 'y'])\n",
    "\n",
    "v = Vector(1, 2)\n",
    "v.y\n"
   ],
   "id": "9a78b22e9932806f",
   "outputs": [
    {
     "data": {
      "text/plain": [
       "2"
      ]
     },
     "execution_count": 22,
     "metadata": {},
     "output_type": "execute_result"
    }
   ],
   "execution_count": 22
  },
  {
   "metadata": {},
   "cell_type": "markdown",
   "source": [
    "### `deque` 双端队列\n",
    "\n",
    "回顾一下 `list`"
   ],
   "id": "bb66b60c42fd1a1d"
  },
  {
   "metadata": {
    "ExecuteTime": {
     "end_time": "2025-02-26T14:15:03.825438Z",
     "start_time": "2025-02-26T14:15:03.821961Z"
    }
   },
   "cell_type": "code",
   "source": "arr = [1, 2, 3, 4, 5]",
   "id": "da68ede14da25a47",
   "outputs": [],
   "execution_count": 50
  },
  {
   "metadata": {
    "ExecuteTime": {
     "end_time": "2025-02-26T14:21:39.085539Z",
     "start_time": "2025-02-26T14:21:39.081098Z"
    }
   },
   "cell_type": "code",
   "source": [
    "num = random.randint(0, 10)\n",
    "arr.append(num)\n",
    "num"
   ],
   "id": "d0837090c925fd30",
   "outputs": [
    {
     "data": {
      "text/plain": [
       "1"
      ]
     },
     "execution_count": 76,
     "metadata": {},
     "output_type": "execute_result"
    }
   ],
   "execution_count": 76
  },
  {
   "metadata": {
    "ExecuteTime": {
     "end_time": "2025-02-26T14:15:09.768012Z",
     "start_time": "2025-02-26T14:15:09.763500Z"
    }
   },
   "cell_type": "code",
   "source": "arr.pop()",
   "id": "606bbc2fed893c50",
   "outputs": [
    {
     "data": {
      "text/plain": [
       "1"
      ]
     },
     "execution_count": 53,
     "metadata": {},
     "output_type": "execute_result"
    }
   ],
   "execution_count": 53
  },
  {
   "metadata": {
    "ExecuteTime": {
     "end_time": "2025-02-26T14:15:11.293204Z",
     "start_time": "2025-02-26T14:15:11.290192Z"
    }
   },
   "cell_type": "code",
   "source": "arr",
   "id": "653d3e363a0a7343",
   "outputs": [
    {
     "data": {
      "text/plain": [
       "[1, 2, 3, 4, 5]"
      ]
     },
     "execution_count": 54,
     "metadata": {},
     "output_type": "execute_result"
    }
   ],
   "execution_count": 54
  },
  {
   "metadata": {},
   "cell_type": "markdown",
   "source": "`deque` 提供了 `popleft`",
   "id": "592095819be9c5bf"
  },
  {
   "metadata": {
    "ExecuteTime": {
     "end_time": "2025-02-26T14:21:45.236511Z",
     "start_time": "2025-02-26T14:21:45.233881Z"
    }
   },
   "cell_type": "code",
   "source": [
    "from collections import deque\n",
    "deq = deque([1, 2, 3, 4, 5])"
   ],
   "id": "e8345d4a1e4871d9",
   "outputs": [],
   "execution_count": 77
  },
  {
   "metadata": {
    "ExecuteTime": {
     "end_time": "2025-02-26T14:21:47.152056Z",
     "start_time": "2025-02-26T14:21:47.149098Z"
    }
   },
   "cell_type": "code",
   "source": [
    "num = random.randint(0, 10)\n",
    "deq.appendleft(num)\n",
    "num"
   ],
   "id": "871f881a4f0543b2",
   "outputs": [
    {
     "data": {
      "text/plain": [
       "9"
      ]
     },
     "execution_count": 79,
     "metadata": {},
     "output_type": "execute_result"
    }
   ],
   "execution_count": 79
  },
  {
   "metadata": {
    "ExecuteTime": {
     "end_time": "2025-02-26T14:18:15.254250Z",
     "start_time": "2025-02-26T14:18:15.243968Z"
    }
   },
   "cell_type": "code",
   "source": "deq.popleft()",
   "id": "629cc9ccb96a788b",
   "outputs": [
    {
     "data": {
      "text/plain": [
       "1"
      ]
     },
     "execution_count": 59,
     "metadata": {},
     "output_type": "execute_result"
    }
   ],
   "execution_count": 59
  },
  {
   "metadata": {
    "ExecuteTime": {
     "end_time": "2025-02-26T14:21:52.766910Z",
     "start_time": "2025-02-26T14:21:52.762155Z"
    }
   },
   "cell_type": "code",
   "source": [
    "deq.rotate(2)\n",
    "deq"
   ],
   "id": "50f91e2a08043e42",
   "outputs": [
    {
     "data": {
      "text/plain": [
       "deque([4, 5, 9, 9, 1, 2, 3])"
      ]
     },
     "execution_count": 82,
     "metadata": {},
     "output_type": "execute_result"
    }
   ],
   "execution_count": 82
  },
  {
   "metadata": {
    "ExecuteTime": {
     "end_time": "2025-02-26T14:22:20.826231Z",
     "start_time": "2025-02-26T14:22:20.821497Z"
    }
   },
   "cell_type": "code",
   "source": [
    "deq.rotate(-3)\n",
    "deq"
   ],
   "id": "2e211f82922236d9",
   "outputs": [
    {
     "data": {
      "text/plain": [
       "deque([9, 1, 2, 3, 4, 5, 9])"
      ]
     },
     "execution_count": 86,
     "metadata": {},
     "output_type": "execute_result"
    }
   ],
   "execution_count": 86
  },
  {
   "metadata": {
    "ExecuteTime": {
     "end_time": "2025-02-26T14:22:07.528569Z",
     "start_time": "2025-02-26T14:22:07.524006Z"
    }
   },
   "cell_type": "code",
   "source": "deq",
   "id": "24050816163add34",
   "outputs": [
    {
     "data": {
      "text/plain": [
       "deque([9, 9, 1, 2, 3, 4, 5])"
      ]
     },
     "execution_count": 84,
     "metadata": {},
     "output_type": "execute_result"
    }
   ],
   "execution_count": 84
  },
  {
   "metadata": {},
   "cell_type": "markdown",
   "source": [
    "### `defaultdict` 默认字典\n",
    "- 定义 Graph 非常有用"
   ],
   "id": "5211a143ab0d8001"
  },
  {
   "metadata": {
    "ExecuteTime": {
     "end_time": "2025-02-26T14:27:24.482118Z",
     "start_time": "2025-02-26T14:27:24.478960Z"
    }
   },
   "cell_type": "code",
   "source": "edges = [(1, 2), (1, 3), (2, 4)]",
   "id": "bebc20222bbd9b43",
   "outputs": [],
   "execution_count": 91
  },
  {
   "metadata": {
    "ExecuteTime": {
     "end_time": "2025-02-26T14:27:48.479220Z",
     "start_time": "2025-02-26T14:27:48.474755Z"
    }
   },
   "cell_type": "code",
   "source": [
    "from collections import defaultdict\n",
    "G = defaultdict(list)\n",
    "\n",
    "for u, v in edges:\n",
    "    G[u].append(v)\n",
    "G"
   ],
   "id": "c83907de26708058",
   "outputs": [
    {
     "data": {
      "text/plain": [
       "defaultdict(list, {1: [2, 3], 2: [4]})"
      ]
     },
     "execution_count": 92,
     "metadata": {},
     "output_type": "execute_result"
    }
   ],
   "execution_count": 92
  },
  {
   "metadata": {
    "ExecuteTime": {
     "end_time": "2025-02-26T14:28:17.006444Z",
     "start_time": "2025-02-26T14:28:17.002082Z"
    }
   },
   "cell_type": "code",
   "source": [
    "counter = defaultdict(lambda: 0)\n",
    "\n",
    "for u, v in edges:\n",
    "    counter[u] += 1\n",
    "    counter[v] += 1\n",
    "counter"
   ],
   "id": "a0f6b80b17a8ea89",
   "outputs": [
    {
     "data": {
      "text/plain": [
       "defaultdict(<function __main__.<lambda>()>, {1: 2, 2: 2, 3: 1, 4: 1})"
      ]
     },
     "execution_count": 93,
     "metadata": {},
     "output_type": "execute_result"
    }
   ],
   "execution_count": 93
  },
  {
   "metadata": {},
   "cell_type": "markdown",
   "source": [
    "## 递归\n",
    "### `stack` 栈\n",
    "\n",
    "![](https://imgsa.baidu.com/forum/pic/item/1af8079759ee3d6d068ac76242166d224e4ade14.jpg)\n",
    "\n",
    "递归函数在调用时会隐式使用 **调用栈(Call Stack)** 来管理函数状态："
   ],
   "id": "2dd7ab2d573158e1"
  },
  {
   "metadata": {
    "ExecuteTime": {
     "end_time": "2025-02-26T14:41:21.887981Z",
     "start_time": "2025-02-26T14:41:21.882949Z"
    }
   },
   "cell_type": "code",
   "source": [
    "'def factorial(n):\n",
    "    if n == 0:\n",
    "        return 1\n",
    "    return n * factorial(n-1)\n",
    "\n",
    "factorial(3)"
   ],
   "id": "e851072426a4a795",
   "outputs": [
    {
     "data": {
      "text/plain": [
       "6"
      ]
     },
     "execution_count": 96,
     "metadata": {},
     "output_type": "execute_result"
    }
   ],
   "execution_count": 96
  },
  {
   "metadata": {},
   "cell_type": "markdown",
   "source": "## 参考阅读\n",
   "id": "7b38718ebdf25742"
  },
  {
   "metadata": {},
   "cell_type": "code",
   "outputs": [],
   "execution_count": null,
   "source": "",
   "id": "93a969ab894f7964"
  }
 ],
 "metadata": {
  "kernelspec": {
   "display_name": "Python 3",
   "language": "python",
   "name": "python3"
  },
  "language_info": {
   "codemirror_mode": {
    "name": "ipython",
    "version": 2
   },
   "file_extension": ".py",
   "mimetype": "text/x-python",
   "name": "python",
   "nbconvert_exporter": "python",
   "pygments_lexer": "ipython2",
   "version": "2.7.6"
  }
 },
 "nbformat": 4,
 "nbformat_minor": 5
}
