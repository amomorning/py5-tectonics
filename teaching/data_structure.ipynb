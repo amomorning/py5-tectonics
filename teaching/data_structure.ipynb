{
 "cells": [
  {
   "cell_type": "code",
   "id": "initial_id",
   "metadata": {
    "collapsed": true,
    "ExecuteTime": {
     "end_time": "2025-02-27T02:59:16.916476Z",
     "start_time": "2025-02-27T02:59:16.902378Z"
    }
   },
   "source": "import random",
   "outputs": [],
   "execution_count": 2
  },
  {
   "metadata": {},
   "cell_type": "markdown",
   "source": [
    "## 基本数据结构\n",
    "### 内置数据结构\n",
    "- `list`\n",
    "- `tuple`\n",
    "- `dict`\n",
    "- `set`\n",
    "\n",
    "### `namedtuple` 结构化数据\n",
    "支持`.`访问的结构化数据\n"
   ],
   "id": "5df4a03f35052d41"
  },
  {
   "metadata": {
    "ExecuteTime": {
     "end_time": "2025-02-27T03:01:02.590873Z",
     "start_time": "2025-02-27T03:01:02.569633Z"
    }
   },
   "cell_type": "code",
   "source": [
    "from collections import namedtuple\n",
    "Vector = namedtuple(\"Vector\", ['x', 'y'])\n",
    "\n",
    "v = Vector(1, 2)\n",
    "v.y\n"
   ],
   "id": "9a78b22e9932806f",
   "outputs": [
    {
     "data": {
      "text/plain": [
       "2"
      ]
     },
     "execution_count": 3,
     "metadata": {},
     "output_type": "execute_result"
    }
   ],
   "execution_count": 3
  },
  {
   "metadata": {},
   "cell_type": "markdown",
   "source": [
    "### `deque` 双端队列\n",
    "\n",
    "回顾一下 `list`"
   ],
   "id": "bb66b60c42fd1a1d"
  },
  {
   "metadata": {
    "ExecuteTime": {
     "end_time": "2025-02-27T03:02:32.040686Z",
     "start_time": "2025-02-27T03:02:32.037214Z"
    }
   },
   "cell_type": "code",
   "source": "arr = [1, 2, 3, 4, 5]",
   "id": "da68ede14da25a47",
   "outputs": [],
   "execution_count": 4
  },
  {
   "metadata": {
    "ExecuteTime": {
     "end_time": "2025-02-27T03:03:09.452791Z",
     "start_time": "2025-02-27T03:03:09.448686Z"
    }
   },
   "cell_type": "code",
   "source": [
    "num = random.randint(0, 10)\n",
    "arr.append(num)\n",
    "num"
   ],
   "id": "d0837090c925fd30",
   "outputs": [
    {
     "data": {
      "text/plain": [
       "8"
      ]
     },
     "execution_count": 8,
     "metadata": {},
     "output_type": "execute_result"
    }
   ],
   "execution_count": 8
  },
  {
   "metadata": {
    "ExecuteTime": {
     "end_time": "2025-02-27T03:03:14.550942Z",
     "start_time": "2025-02-27T03:03:14.546851Z"
    }
   },
   "cell_type": "code",
   "source": "arr.pop()",
   "id": "606bbc2fed893c50",
   "outputs": [
    {
     "data": {
      "text/plain": [
       "8"
      ]
     },
     "execution_count": 10,
     "metadata": {},
     "output_type": "execute_result"
    }
   ],
   "execution_count": 10
  },
  {
   "metadata": {
    "ExecuteTime": {
     "end_time": "2025-02-27T03:03:18.609470Z",
     "start_time": "2025-02-27T03:03:18.605675Z"
    }
   },
   "cell_type": "code",
   "source": "arr",
   "id": "653d3e363a0a7343",
   "outputs": [
    {
     "data": {
      "text/plain": [
       "[1, 2, 3, 4, 5]"
      ]
     },
     "execution_count": 11,
     "metadata": {},
     "output_type": "execute_result"
    }
   ],
   "execution_count": 11
  },
  {
   "metadata": {},
   "cell_type": "markdown",
   "source": "`deque` 提供了 `popleft`",
   "id": "592095819be9c5bf"
  },
  {
   "metadata": {
    "ExecuteTime": {
     "end_time": "2025-02-27T03:04:08.231493Z",
     "start_time": "2025-02-27T03:04:08.228329Z"
    }
   },
   "cell_type": "code",
   "source": [
    "from collections import deque\n",
    "deq = deque([1, 2, 3, 4, 5])"
   ],
   "id": "e8345d4a1e4871d9",
   "outputs": [],
   "execution_count": 12
  },
  {
   "metadata": {
    "ExecuteTime": {
     "end_time": "2025-02-27T03:04:16.642737Z",
     "start_time": "2025-02-27T03:04:16.638918Z"
    }
   },
   "cell_type": "code",
   "source": [
    "num = random.randint(0, 10)\n",
    "deq.appendleft(num)\n",
    "num"
   ],
   "id": "871f881a4f0543b2",
   "outputs": [
    {
     "data": {
      "text/plain": [
       "7"
      ]
     },
     "execution_count": 13,
     "metadata": {},
     "output_type": "execute_result"
    }
   ],
   "execution_count": 13
  },
  {
   "metadata": {
    "ExecuteTime": {
     "end_time": "2025-02-27T03:04:25.385044Z",
     "start_time": "2025-02-27T03:04:25.381321Z"
    }
   },
   "cell_type": "code",
   "source": "deq.popleft()",
   "id": "629cc9ccb96a788b",
   "outputs": [
    {
     "data": {
      "text/plain": [
       "7"
      ]
     },
     "execution_count": 15,
     "metadata": {},
     "output_type": "execute_result"
    }
   ],
   "execution_count": 15
  },
  {
   "metadata": {
    "ExecuteTime": {
     "end_time": "2025-02-27T03:04:41.089909Z",
     "start_time": "2025-02-27T03:04:41.085667Z"
    }
   },
   "cell_type": "code",
   "source": [
    "deq.rotate(2)\n",
    "deq"
   ],
   "id": "50f91e2a08043e42",
   "outputs": [
    {
     "data": {
      "text/plain": [
       "deque([4, 5, 1, 2, 3])"
      ]
     },
     "execution_count": 17,
     "metadata": {},
     "output_type": "execute_result"
    }
   ],
   "execution_count": 17
  },
  {
   "metadata": {
    "ExecuteTime": {
     "end_time": "2025-02-27T03:04:59.971277Z",
     "start_time": "2025-02-27T03:04:59.966996Z"
    }
   },
   "cell_type": "code",
   "source": [
    "deq.rotate(-3)\n",
    "deq"
   ],
   "id": "2e211f82922236d9",
   "outputs": [
    {
     "data": {
      "text/plain": [
       "deque([2, 3, 4, 5, 1])"
      ]
     },
     "execution_count": 18,
     "metadata": {},
     "output_type": "execute_result"
    }
   ],
   "execution_count": 18
  },
  {
   "metadata": {
    "ExecuteTime": {
     "end_time": "2025-02-27T03:04:27.586674Z",
     "start_time": "2025-02-27T03:04:27.582110Z"
    }
   },
   "cell_type": "code",
   "source": "deq",
   "id": "24050816163add34",
   "outputs": [
    {
     "data": {
      "text/plain": [
       "deque([1, 2, 3, 4, 5])"
      ]
     },
     "execution_count": 16,
     "metadata": {},
     "output_type": "execute_result"
    }
   ],
   "execution_count": 16
  },
  {
   "metadata": {},
   "cell_type": "markdown",
   "source": [
    "### `defaultdict` 默认字典\n",
    "- 定义 Graph 非常有用"
   ],
   "id": "5211a143ab0d8001"
  },
  {
   "metadata": {
    "ExecuteTime": {
     "end_time": "2025-02-27T03:12:23.192223Z",
     "start_time": "2025-02-27T03:12:23.189208Z"
    }
   },
   "cell_type": "code",
   "source": "edges = [(1, 2), (1, 3), (2, 4)]",
   "id": "bebc20222bbd9b43",
   "outputs": [],
   "execution_count": 20
  },
  {
   "metadata": {
    "ExecuteTime": {
     "end_time": "2025-02-27T03:12:24.582165Z",
     "start_time": "2025-02-27T03:12:24.578161Z"
    }
   },
   "cell_type": "code",
   "source": [
    "from collections import defaultdict\n",
    "G = defaultdict(list)\n",
    "\n",
    "for u, v in edges:\n",
    "    G[u].append(v)\n",
    "G"
   ],
   "id": "c83907de26708058",
   "outputs": [
    {
     "data": {
      "text/plain": [
       "defaultdict(list, {1: [2, 3], 2: [4]})"
      ]
     },
     "execution_count": 21,
     "metadata": {},
     "output_type": "execute_result"
    }
   ],
   "execution_count": 21
  },
  {
   "metadata": {
    "ExecuteTime": {
     "end_time": "2025-02-27T03:13:03.911333Z",
     "start_time": "2025-02-27T03:13:03.907703Z"
    }
   },
   "cell_type": "code",
   "source": [
    "G = {}\n",
    "for u, v in edges:\n",
    "    if u not in G:\n",
    "        G[u] = []\n",
    "    G[u].append(v)"
   ],
   "id": "45698a8c2e12b1fd",
   "outputs": [],
   "execution_count": 23
  },
  {
   "metadata": {
    "ExecuteTime": {
     "end_time": "2025-02-27T03:14:25.599895Z",
     "start_time": "2025-02-27T03:14:25.595169Z"
    }
   },
   "cell_type": "code",
   "source": [
    "counter = defaultdict(lambda: 0)\n",
    "\n",
    "for u, v in edges:\n",
    "    counter[u] += 1\n",
    "    counter[v] += 1\n",
    "counter"
   ],
   "id": "a0f6b80b17a8ea89",
   "outputs": [
    {
     "data": {
      "text/plain": [
       "defaultdict(<function __main__.<lambda>()>, {1: 2, 2: 2, 3: 1, 4: 1})"
      ]
     },
     "execution_count": 24,
     "metadata": {},
     "output_type": "execute_result"
    }
   ],
   "execution_count": 24
  },
  {
   "metadata": {},
   "cell_type": "markdown",
   "source": [
    "## 递归\n",
    "### `stack` 栈\n",
    "\n",
    "![](https://imgsa.baidu.com/forum/pic/item/1af8079759ee3d6d068ac76242166d224e4ade14.jpg)\n",
    "\n",
    "递归函数在调用时会隐式使用 **调用栈(Call Stack)** 来管理函数状态："
   ],
   "id": "2dd7ab2d573158e1"
  },
  {
   "metadata": {
    "ExecuteTime": {
     "end_time": "2025-02-27T03:21:02.999811Z",
     "start_time": "2025-02-27T03:21:02.198811Z"
    }
   },
   "cell_type": "code",
   "source": [
    "def factorial(n):\n",
    "    if n == 0:\n",
    "        return 1\n",
    "    return n * factorial(n-1)\n",
    "\n",
    "factorial(10000)\n",
    "# 3 * factorial(2)\n",
    "# 2 * factorial(1)\n",
    "# 1 * factorial(0) == 1 * 1"
   ],
   "id": "e851072426a4a795",
   "outputs": [
    {
     "ename": "RecursionError",
     "evalue": "maximum recursion depth exceeded",
     "output_type": "error",
     "traceback": [
      "\u001B[0;31m---------------------------------------------------------------------------\u001B[0m",
      "\u001B[0;31mRecursionError\u001B[0m                            Traceback (most recent call last)",
      "Cell \u001B[0;32mIn[34], line 6\u001B[0m\n\u001B[1;32m      3\u001B[0m         \u001B[38;5;28;01mreturn\u001B[39;00m \u001B[38;5;241m1\u001B[39m\n\u001B[1;32m      4\u001B[0m     \u001B[38;5;28;01mreturn\u001B[39;00m n \u001B[38;5;241m*\u001B[39m factorial(n\u001B[38;5;241m-\u001B[39m\u001B[38;5;241m1\u001B[39m)\n\u001B[0;32m----> 6\u001B[0m factorial(\u001B[38;5;241m10000\u001B[39m)\n",
      "Cell \u001B[0;32mIn[34], line 4\u001B[0m, in \u001B[0;36mfactorial\u001B[0;34m(n)\u001B[0m\n\u001B[1;32m      2\u001B[0m \u001B[38;5;28;01mif\u001B[39;00m n \u001B[38;5;241m==\u001B[39m \u001B[38;5;241m0\u001B[39m:\n\u001B[1;32m      3\u001B[0m     \u001B[38;5;28;01mreturn\u001B[39;00m \u001B[38;5;241m1\u001B[39m\n\u001B[0;32m----> 4\u001B[0m \u001B[38;5;28;01mreturn\u001B[39;00m n \u001B[38;5;241m*\u001B[39m factorial(n\u001B[38;5;241m-\u001B[39m\u001B[38;5;241m1\u001B[39m)\n",
      "Cell \u001B[0;32mIn[34], line 4\u001B[0m, in \u001B[0;36mfactorial\u001B[0;34m(n)\u001B[0m\n\u001B[1;32m      2\u001B[0m \u001B[38;5;28;01mif\u001B[39;00m n \u001B[38;5;241m==\u001B[39m \u001B[38;5;241m0\u001B[39m:\n\u001B[1;32m      3\u001B[0m     \u001B[38;5;28;01mreturn\u001B[39;00m \u001B[38;5;241m1\u001B[39m\n\u001B[0;32m----> 4\u001B[0m \u001B[38;5;28;01mreturn\u001B[39;00m n \u001B[38;5;241m*\u001B[39m factorial(n\u001B[38;5;241m-\u001B[39m\u001B[38;5;241m1\u001B[39m)\n",
      "    \u001B[0;31m[... skipping similar frames: factorial at line 4 (2974 times)]\u001B[0m\n",
      "Cell \u001B[0;32mIn[34], line 4\u001B[0m, in \u001B[0;36mfactorial\u001B[0;34m(n)\u001B[0m\n\u001B[1;32m      2\u001B[0m \u001B[38;5;28;01mif\u001B[39;00m n \u001B[38;5;241m==\u001B[39m \u001B[38;5;241m0\u001B[39m:\n\u001B[1;32m      3\u001B[0m     \u001B[38;5;28;01mreturn\u001B[39;00m \u001B[38;5;241m1\u001B[39m\n\u001B[0;32m----> 4\u001B[0m \u001B[38;5;28;01mreturn\u001B[39;00m n \u001B[38;5;241m*\u001B[39m factorial(n\u001B[38;5;241m-\u001B[39m\u001B[38;5;241m1\u001B[39m)\n",
      "\u001B[0;31mRecursionError\u001B[0m: maximum recursion depth exceeded"
     ]
    }
   ],
   "execution_count": 34
  },
  {
   "metadata": {
    "ExecuteTime": {
     "end_time": "2025-02-27T03:20:11.053278Z",
     "start_time": "2025-02-27T03:20:11.047222Z"
    }
   },
   "cell_type": "code",
   "source": [
    "def factorial_iterative(n):\n",
    "    m = n\n",
    "    stack = []\n",
    "    result = 1\n",
    "    while n > 0:\n",
    "        stack.append(n) # 入栈\n",
    "        n -= 1\n",
    "    assert stack == list(range(m, 0, -1))\n",
    "    while stack:\n",
    "        result *= stack.pop() # 出栈\n",
    "    return result\n",
    "\n",
    "factorial_iterative(3)"
   ],
   "id": "64a977bf3add40bb",
   "outputs": [
    {
     "data": {
      "text/plain": [
       "6"
      ]
     },
     "execution_count": 29,
     "metadata": {},
     "output_type": "execute_result"
    }
   ],
   "execution_count": 29
  },
  {
   "metadata": {},
   "cell_type": "markdown",
   "source": "### hanoi 汉诺塔",
   "id": "fbd246282e8d798"
  },
  {
   "metadata": {},
   "cell_type": "code",
   "source": [
    "def hanoi(n, source, by, target):\n",
    "    if n == 1:\n",
    "        print(f\"{source} --> {target}\")\n",
    "    else:\n",
    "        hanoi(n-1, source, target, by)\n",
    "        hanoi(1, source, by, target)\n",
    "        hanoi(n-1, by, source, target)\n",
    "\n",
    "hanoi(3, 'A', 'B', 'C')"
   ],
   "id": "93a969ab894f7964",
   "outputs": [],
   "execution_count": null
  },
  {
   "metadata": {},
   "cell_type": "markdown",
   "source": [
    "## 参考阅读\n",
    "- [Introduction to Computation and Programming Using Python](http://repo.darmajaya.ac.id/5070/1/Introduction%20to%20Computation%20and%20Programming%20Using%20Python%20by%20John%20V.%20Guttag%20%28z-lib.org%29.pdf)\n",
    "- [PEP 8 – Style Guide for Python Code \\| peps.python.org](https://peps.python.org/pep-0008/)\n",
    "- [About fluentpython.com \\| Fluent Python, the lizard book](https://www.fluentpython.com/about/)\n",
    "- [visualising data structures and algorithms through animation - VisuAlgo](https://visualgo.net/en)"
   ],
   "id": "cc1520383291bdc8"
  }
 ],
 "metadata": {
  "kernelspec": {
   "display_name": "Python 3",
   "language": "python",
   "name": "python3"
  },
  "language_info": {
   "codemirror_mode": {
    "name": "ipython",
    "version": 2
   },
   "file_extension": ".py",
   "mimetype": "text/x-python",
   "name": "python",
   "nbconvert_exporter": "python",
   "pygments_lexer": "ipython2",
   "version": "2.7.6"
  }
 },
 "nbformat": 4,
 "nbformat_minor": 5
}
