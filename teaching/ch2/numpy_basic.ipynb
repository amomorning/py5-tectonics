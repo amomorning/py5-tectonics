{
 "cells": [
  {
   "metadata": {},
   "cell_type": "code",
   "source": [
    "import numpy as np\n",
    "import matplotlib.pyplot as plt\n",
    "\n",
    "def draw_binary(bs):\n",
    "    fig, ax = plt.subplots()\n",
    "\n",
    "    for i, b in enumerate(bs):\n",
    "        color = 'w' if b == '0' else 'k'\n",
    "        square = plt.Rectangle((i, 0), 1, 1, fill=True, facecolor=color, edgecolor='k')\n",
    "        ax.add_patch(square)\n",
    "        ax.text(i+0.5, 0, b, horizontalalignment='center', verticalalignment='top', color='k')\n",
    "        ax.text(len(bs) - i-0.5, 1,str(i) , horizontalalignment='center', verticalalignment='bottom', color='k')\n",
    "\n",
    "    plt.axis('equal')\n",
    "    plt.axis('off')\n",
    "    plt.show()\n",
    "\n",
    "\n",
    "def binary(num, width=8):\n",
    "    return np.binary_repr(num, width=width)\n",
    "\n",
    "draw_binary('01011110')"
   ],
   "id": "55ad925f82bb39cd",
   "outputs": [],
   "execution_count": null
  },
  {
   "metadata": {},
   "cell_type": "markdown",
   "source": "",
   "id": "3f7680f351029310"
  },
  {
   "metadata": {},
   "cell_type": "markdown",
   "source": [
    "## 数据类型\n",
    "\n",
    "### 整型数据 `int`, `np.int32`, `np.int64`"
   ],
   "id": "f793180498cceab6"
  },
  {
   "metadata": {},
   "cell_type": "code",
   "source": "a = 7",
   "id": "b9f62d151b340e4d",
   "outputs": [],
   "execution_count": null
  },
  {
   "metadata": {},
   "cell_type": "code",
   "source": "binary(a)",
   "id": "52a1d268ea62ee41",
   "outputs": [],
   "execution_count": null
  },
  {
   "metadata": {},
   "cell_type": "code",
   "source": "draw_binary(binary(a))",
   "id": "d5a211c4c93f933d",
   "outputs": [],
   "execution_count": null
  },
  {
   "metadata": {},
   "cell_type": "code",
   "source": [
    "for i in range(5):\n",
    "    draw_binary(binary(1<<i))"
   ],
   "id": "adc5cc5de5092417",
   "outputs": [],
   "execution_count": null
  },
  {
   "metadata": {},
   "cell_type": "code",
   "source": "draw_binary(binary(a, 16))",
   "id": "ad875f0fa84397d9",
   "outputs": [],
   "execution_count": null
  },
  {
   "metadata": {},
   "cell_type": "code",
   "source": "(1<<7)-1",
   "id": "ca9c9a4a55b83618",
   "outputs": [],
   "execution_count": null
  },
  {
   "metadata": {},
   "cell_type": "markdown",
   "source": "![](https://encrypted-tbn0.gstatic.com/images?q=tbn:ANd9GcQZZe461O6VuJqOWZs_jkv0iLVxh-MukMChAg&s)\n",
   "id": "c676075eb08f34dc"
  },
  {
   "metadata": {},
   "cell_type": "code",
   "source": "draw_binary(binary(-a))",
   "id": "df1609ef394b0f18",
   "outputs": [],
   "execution_count": null
  },
  {
   "metadata": {},
   "cell_type": "code",
   "source": [
    "# 首位表示负数\n",
    "draw_binary(binary((1<<7)-1))\n"
   ],
   "id": "a61e422841399f00",
   "outputs": [],
   "execution_count": null
  },
  {
   "metadata": {},
   "cell_type": "code",
   "source": "(1<<31)-1",
   "id": "9a321b86d1d6f73d",
   "outputs": [],
   "execution_count": null
  },
  {
   "metadata": {},
   "cell_type": "code",
   "source": "1<<63-1",
   "id": "547f9222be7238b8",
   "outputs": [],
   "execution_count": null
  },
  {
   "metadata": {},
   "cell_type": "code",
   "source": "np.array([(1<<63)-1], dtype=np.int64)",
   "id": "928c2c68b81e1299",
   "outputs": [],
   "execution_count": null
  },
  {
   "metadata": {},
   "cell_type": "code",
   "source": "1<<512",
   "id": "2258b561ce268701",
   "outputs": [],
   "execution_count": null
  },
  {
   "metadata": {},
   "cell_type": "markdown",
   "source": [
    "### 浮点型数据 `float`, `np.float32`, `np.float64`\n",
    "- `float` → `np.float64` 双精度浮点数据，对应 Java/C 的 `double`"
   ],
   "id": "c69bd14d7165fdf7"
  },
  {
   "cell_type": "code",
   "id": "initial_id",
   "metadata": {
    "collapsed": true
   },
   "source": [
    "a = np.array([3.14], dtype=float)\n",
    "a.dtype"
   ],
   "outputs": [],
   "execution_count": null
  },
  {
   "metadata": {},
   "cell_type": "markdown",
   "source": "![](../../imgs/float.jpeg)",
   "id": "8426e836295b269e"
  },
  {
   "metadata": {},
   "cell_type": "code",
   "source": [
    "num = 3.14\n",
    "x = np.float32(num)\n",
    "binary_32 = np.binary_repr(x.view(np.uint32), width=32)\n",
    "print(\"float32二进制表示:\", binary_32)\n",
    "\n",
    "y = np.float64(num)\n",
    "binary_64 = np.binary_repr(y.view(np.uint64), width=64)\n",
    "print(\"float64二进制表示:\", binary_64)"
   ],
   "id": "a8a447fa89d56b08",
   "outputs": [],
   "execution_count": null
  },
  {
   "metadata": {},
   "cell_type": "code",
   "source": [
    "num = 3.140000000000001\n",
    "x = np.float32(num)\n",
    "binary_32 = np.binary_repr(x.view(np.uint32), width=32)\n",
    "print(\"float32二进制表示:\", binary_32)\n",
    "\n",
    "y = np.float64(num)\n",
    "binary_64 = np.binary_repr(y.view(np.uint64), width=64)\n",
    "print(\"float64二进制表示:\", binary_64)"
   ],
   "id": "ab13e9ff9ffad82d",
   "outputs": [],
   "execution_count": null
  },
  {
   "metadata": {},
   "cell_type": "code",
   "source": [
    "def view_32(x):\n",
    "    x = np.float32(x)\n",
    "    return np.binary_repr(x.view(np.uint32), width=32)\n",
    "\n",
    "def view_64(x):\n",
    "    x = np.float64(x)\n",
    "    return np.binary_repr(x.view(np.uint64), width=64)"
   ],
   "id": "e74b8e9736c130cd",
   "outputs": [],
   "execution_count": null
  },
  {
   "metadata": {},
   "cell_type": "code",
   "source": [
    "eps = 0.0001\n",
    "num = 3.14\n",
    "for i in range(10):\n",
    "    if view_32(num) == view_32(num+eps):\n",
    "        print(f\"float32: {eps:.20f}\")\n",
    "    eps /= 10\n",
    "\n",
    "for i in range(10):\n",
    "    if view_64(num) == view_64(num+eps):\n",
    "        print(f\"float64: {eps:.20f}\")\n",
    "    eps /= 10\n"
   ],
   "id": "9ef947549ce630f0",
   "outputs": [],
   "execution_count": null
  },
  {
   "metadata": {},
   "cell_type": "markdown",
   "source": [
    "## 算法复杂度\n",
    "### 时间复杂度 Time Complexity\n",
    "- O(1) 常数时间\n",
    "- O(log n) 对数时间\n",
    "- O(n) 线性时间\n",
    "- O(n log n) 线性对数时间\n",
    "- O(n^2) 平方时间\n",
    "- O(n^3) 立方时间\n",
    "- O(2^n) 指数时间 - 摩尔定律 Moore's Law - 硅片上的原子数目，每 18 个月翻一倍\n",
    "- O(n!) 阶乘时间 - NP hard"
   ],
   "id": "1f792165a41c37f3"
  },
  {
   "metadata": {},
   "cell_type": "code",
   "source": [
    "import math\n",
    "max_x =8\n",
    "x = np.linspace(0.01, max_x, 100) # 0.01 to 10, 100 points\n",
    "x_int = np.arange(1, max_x+1)\n",
    "\n",
    "plt.plot(x, np.log(x), label='O(log n)')\n",
    "plt.plot(x, x, label='O(n)')\n",
    "plt.plot(x, x * np.log(x), label='O(n log n)') # ************\n",
    "plt.plot(x, x**2, label='O(n^2)')\n",
    "plt.plot(x, x**3, label='O(n^3)')\n",
    "plt.plot(x, 2**x, label='O(2^n)')\n",
    "plt.plot(x_int, [math.factorial(x) for x in x_int], label='O(n!)') # NP hard\n",
    "plt.legend()\n",
    "plt.show()"
   ],
   "id": "8604ab6554faa8e1",
   "outputs": [],
   "execution_count": null
  },
  {
   "metadata": {},
   "cell_type": "code",
   "source": "import time",
   "id": "c8eb229df6892035",
   "outputs": [],
   "execution_count": null
  },
  {
   "metadata": {},
   "cell_type": "code",
   "source": "n = 100000",
   "id": "5af491d26fc95736",
   "outputs": [],
   "execution_count": null
  },
  {
   "metadata": {},
   "cell_type": "code",
   "source": [
    "# algorithm of O(1) - Gauss sum\n",
    "tot = (1+n)*n//2\n",
    "tot"
   ],
   "id": "1f66b0cc4b32bc6b",
   "outputs": [],
   "execution_count": null
  },
  {
   "metadata": {},
   "cell_type": "code",
   "source": [
    "# algorithm of O(n)\n",
    "cur = time.time()\n",
    "tot = 0\n",
    "for i in range(n+1):\n",
    "    tot += i\n",
    "duration = time.time() - cur\n",
    "tot"
   ],
   "id": "5a2e91905a4bb7ba",
   "outputs": [],
   "execution_count": null
  },
  {
   "metadata": {},
   "cell_type": "code",
   "source": "duration",
   "id": "4b9eb84020f88fcc",
   "outputs": [],
   "execution_count": null
  },
  {
   "metadata": {},
   "cell_type": "code",
   "source": [
    "# algorithm of O(n^2)\n",
    "tot = 0\n",
    "for i in range(n+1):\n",
    "    for j in range(n+1):\n",
    "        if i == j:\n",
    "            tot += i\n",
    "tot"
   ],
   "id": "aa211ba4a18f189e",
   "outputs": [],
   "execution_count": null
  },
  {
   "metadata": {},
   "cell_type": "code",
   "source": "duration*n/60/60 # hours for O(n^2)",
   "id": "8d59cede4a6ee3de",
   "outputs": [],
   "execution_count": null
  },
  {
   "metadata": {},
   "cell_type": "code",
   "source": "duration*n*n/60/60/24/365 # years for O(n^3)",
   "id": "7e10f391098d66e4",
   "outputs": [],
   "execution_count": null
  },
  {
   "metadata": {},
   "cell_type": "code",
   "source": "2**27",
   "id": "6064ada32bec7280",
   "outputs": [],
   "execution_count": null
  },
  {
   "metadata": {},
   "cell_type": "markdown",
   "source": [
    "## 二分搜索 Binary Search\n",
    "\n",
    "在单调的情形下，可以使用二分搜索来查找某个值的位置。\n"
   ],
   "id": "50cfdeb778ceb840"
  },
  {
   "metadata": {},
   "cell_type": "code",
   "source": [
    "l, r = 0, 10000000\n",
    "\n",
    "def check(num):\n",
    "    return num < 1000\n",
    "\n",
    "while l < r:\n",
    "    m = (l + r) // 2\n",
    "    print(m, l, r)\n",
    "    if check(m):\n",
    "        l = m + 1\n",
    "    else:\n",
    "        r = m"
   ],
   "id": "216179d2ac3d0e25",
   "outputs": [],
   "execution_count": null
  },
  {
   "metadata": {},
   "cell_type": "markdown",
   "source": "使用二分搜索切分多边形",
   "id": "61e64139d51eb7fa"
  },
  {
   "metadata": {},
   "cell_type": "code",
   "source": [
    "from shapely import Polygon, LineString, GeometryCollection\n",
    "from shapely.ops import split\n",
    "eps = 0.0001\n",
    "\n",
    "def random_polygon(n, min_r, max_r):\n",
    "    angle_step = 2 * np.pi / n\n",
    "    pts = []\n",
    "    for i in range(n):\n",
    "        r = np.random.uniform(min_r, max_r)\n",
    "        angle = i * angle_step\n",
    "        x, y = r * np.cos(angle), r * np.sin(angle)\n",
    "        pts.append([x, y])\n",
    "    return pts\n",
    "\n",
    "def split_polygon(ply, x):\n",
    "    bottom, top = ply.bounds[1]-eps, ply.bounds[3]+eps\n",
    "    ls = LineString([(x, bottom), (x, top)])\n",
    "    left, right = split(ply, ls).geoms\n",
    "    return left, right\n",
    "\n"
   ],
   "id": "c77ebb1294057d7f",
   "outputs": [],
   "execution_count": null
  },
  {
   "metadata": {},
   "cell_type": "code",
   "source": [
    "# check if x need to move larger\n",
    "def check(ply, x):\n",
    "    if x > ply.bounds[2]:\n",
    "        return True\n",
    "    if x < ply.bounds[0]:\n",
    "        return False\n",
    "    left, right = split_polygon(ply, x)\n",
    "    if left.area > right.area:\n",
    "        return True\n"
   ],
   "id": "be16049cd4799a82",
   "outputs": [],
   "execution_count": null
  },
  {
   "metadata": {},
   "cell_type": "code",
   "source": [
    "%%time\n",
    "ply = Polygon(random_polygon(5, 10, 20))\n",
    "l, r = ply.bounds[0], ply.bounds[2]\n",
    "cnt = 0\n",
    "while l + eps < r:\n",
    "\n",
    "    m = (l + r) / 2\n",
    "    cnt += 1\n",
    "    if check(ply, m):\n",
    "        l = m\n",
    "    else:\n",
    "        r = m\n",
    "\n",
    "print(f'Optimization done within {cnt} steps')\n",
    "left, right = split_polygon(ply, r)\n",
    "print(left.area, right.area)\n",
    "GeometryCollection([left, right])"
   ],
   "id": "3c421d7655b93577",
   "outputs": [],
   "execution_count": null
  },
  {
   "metadata": {},
   "cell_type": "markdown",
   "source": [
    "## 时间复杂度与编程语言\n",
    "高级编程语言中，C++是执行速度最快的语言。一般来说，Python 比 C++ 慢 10 倍以上，Java 比 C++ 慢大约 2-3 倍。\n",
    "![](https://niklas-heer.github.io/speed-comparison/assets/latest/combined_results.png)\n",
    "https://niklas-heer.github.io/speed-comparison/"
   ],
   "id": "7bcc96d238e71ebc"
  },
  {
   "metadata": {},
   "cell_type": "code",
   "source": [
    "arr = [i for i in range(10000000)]\n",
    "arr_np = np.array(arr)"
   ],
   "id": "163be645c6e1c75e",
   "outputs": [],
   "execution_count": null
  },
  {
   "metadata": {},
   "cell_type": "code",
   "source": [
    "%%time\n",
    "[x+1 for x in arr];"
   ],
   "id": "773a2f4559ed4ed9",
   "outputs": [],
   "execution_count": null
  },
  {
   "metadata": {},
   "cell_type": "code",
   "source": [
    "%%time\n",
    "arr_np+=1"
   ],
   "id": "efa4ccabb2455799",
   "outputs": [],
   "execution_count": null
  }
 ],
 "metadata": {
  "kernelspec": {
   "display_name": "Python 3",
   "language": "python",
   "name": "python3"
  },
  "language_info": {
   "codemirror_mode": {
    "name": "ipython",
    "version": 2
   },
   "file_extension": ".py",
   "mimetype": "text/x-python",
   "name": "python",
   "nbconvert_exporter": "python",
   "pygments_lexer": "ipython2",
   "version": "2.7.6"
  }
 },
 "nbformat": 4,
 "nbformat_minor": 5
}
