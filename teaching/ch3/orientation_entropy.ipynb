{
 "cells": [
  {
   "cell_type": "code",
   "id": "initial_id",
   "metadata": {
    "collapsed": true
   },
   "source": [
    "import matplotlib.pyplot as plt\n",
    "import osmnx as ox"
   ],
   "outputs": [],
   "execution_count": null
  },
  {
   "metadata": {},
   "cell_type": "code",
   "source": [
    "places = {\n",
    "    \"Dongcheng\": \"Dongcheng, Beijing, China\",\n",
    "    \"Xicheng\": \"Xicheng, Beijing, China\",\n",
    "    \"Chaoyang\": \"Chaoyang, Beijing, China\",\n",
    "    \"Fengtai\": \"Fengtai, Beijing, China\",\n",
    "    \"Shijingshan\": \"Shijingshan, Beijing, China\",\n",
    "    \"Haidian\": \"Haidian, Beijing, China\",\n",
    "    \"Mentougou\": \"Mentougou, Beijing, China\",\n",
    "    \"Fangshan\": \"Fangshan, Beijing, China\",\n",
    "    \"Daxing\": \"Daxing, Beijing, China\",\n",
    "    \"Tongzhou\": \"Tongzhou, Beijing, China\",\n",
    "    \"Shunyi\": \"Shunyi, Beijing, China\",\n",
    "    \"Changping\": \"Changping, Beijing, China\",\n",
    "    \"Huairou\": \"Huairou, Beijing, China\",\n",
    "    \"Pinggu\": \"Pinggu, Beijing, China\",\n",
    "    \"Miyun\": \"Miyun, Beijing, China\",\n",
    "    \"Yanqing\": \"Yanqing, Beijing, China\"\n",
    "} # Beijing"
   ],
   "id": "8a44012778ee3604",
   "outputs": [],
   "execution_count": null
  },
  {
   "metadata": {},
   "cell_type": "code",
   "source": [
    "places = {\n",
    "    \"Xuanwu\": \"Xuanwu, Nanjing, China\",\n",
    "    \"Qinhuai\": \"Qinhuai, Nanjing, China\",\n",
    "    \"Jianye\": \"Jianye, Nanjing, China\",\n",
    "    \"Gulou\": \"Gulou, Nanjing, China\",\n",
    "    \"Qixia\": \"Qixia, Nanjing, China\",\n",
    "    \"Yuhuatai\": \"Yuhuatai, Nanjing, China\",\n",
    "    \"Jiangning\": \"Jiangning, Nanjing, China\",\n",
    "    \"Pukou\": \"Pukou, Nanjing, China\",\n",
    "    \"Luhe\": \"Luhe, Nanjing, China\",\n",
    "    \"Lishui\": \"Lishui, Nanjing, China\",\n",
    "    \"Gaochun\": \"Gaochun, Nanjing, China\",\n",
    "    \"Jiangbei\": \"Jiangbei, Nanjing, China\",\n",
    "} # Nanjing"
   ],
   "id": "c386d6c7ecc8cdb5",
   "outputs": [],
   "execution_count": null
  },
  {
   "metadata": {},
   "cell_type": "code",
   "source": [
    "gdf = ox.geocoder.geocode_to_gdf(list(places.values()))\n",
    "gdf"
   ],
   "id": "e92c79db51eda355",
   "outputs": [],
   "execution_count": null
  },
  {
   "metadata": {},
   "cell_type": "code",
   "source": "gdf.plot()",
   "id": "29d3764c49107a1e",
   "outputs": [],
   "execution_count": null
  },
  {
   "metadata": {},
   "cell_type": "code",
   "source": [
    "# fetch the street network for each city\n",
    "street_graphs = {}\n",
    "for place in places:\n",
    "    print(ox.utils.ts(), place)\n",
    "    street_graphs[place] = ox.graph.graph_from_place(places[place], network_type=\"drive\")\n"
   ],
   "id": "1312b848b3526de",
   "outputs": [],
   "execution_count": null
  },
  {
   "metadata": {},
   "cell_type": "code",
   "source": [
    "import math\n",
    "def primary_angle(angle):\n",
    "    if angle > 180:\n",
    "        return angle - 180\n",
    "    elif angle < 0:\n",
    "        return angle + 180\n",
    "    return angle\n",
    "\n",
    "def calc_entropy(angles, bins=18):\n",
    "    counts = [0 for _ in range(bins)]\n",
    "    for angle in angles:\n",
    "        a = int(angle-0.0001) // (180 // bins)\n",
    "        counts[a] += 1\n",
    "    # print('counts', counts)\n",
    "\n",
    "    entropy = 0\n",
    "    for i, cnt in enumerate(counts):\n",
    "        entropy -= cnt/sum(counts) * math.log(cnt / sum(counts))\n",
    "    return entropy\n"
   ],
   "id": "fd4767cd489d98ae",
   "outputs": [],
   "execution_count": null
  },
  {
   "metadata": {},
   "cell_type": "code",
   "source": "plt.get_cmap('plasma')",
   "id": "805df1927ecd8e42",
   "outputs": [],
   "execution_count": null
  },
  {
   "metadata": {},
   "cell_type": "code",
   "source": [
    "n = len(places)\n",
    "ncols = 4\n",
    "nrows = (len(places)+3)//ncols\n",
    "figsize = (ncols * 5, nrows * 5)\n",
    "fig, axes = plt.subplots(nrows, ncols, figsize=figsize, subplot_kw={\"projection\": \"polar\"})\n",
    "\n",
    "# plot each city's polar histogram\n",
    "Gus = []\n",
    "for i, place in enumerate(places):\n",
    "    ax = axes.flat[i]\n",
    "    G = street_graphs[place]\n",
    "    Gu = ox.bearing.add_edge_bearings(ox.convert.to_undirected(G))\n",
    "\n",
    "    angles = [primary_angle(d['bearing']) for _, _, _, d in Gu.edges(keys=True, data=True) if 'bearing' in d]\n",
    "\n",
    "    Gus.append((calc_entropy(angles), place, Gu))\n",
    "\n",
    "Gus = sorted(Gus, key=lambda x: x[0], reverse=True)\n",
    "# norm = plt.Normalize(2, 3)\n",
    "norm = plt.Normalize(Gus[-1][0], Gus[0][1])\n",
    "cmap = plt.get_cmap('plasma')\n",
    "sm = plt.cm.ScalarMappable(cmap=cmap, norm=norm)\n",
    "for i, (entropy, place, gu) in enumerate(Gus):\n",
    "    ax = axes.flat[nrows*ncols-i-1]\n",
    "    fig, ax = ox.plot.plot_orientation(gu, ax=ax, title=place, area=True, color=cmap(norm(entropy)))\n",
    "\n",
    "# add figure title and save image\n",
    "suptitle_font = {\n",
    "    \"family\": \"DejaVu Sans\",\n",
    "    \"fontsize\": 60,\n",
    "    \"fontweight\": \"normal\",\n",
    "    \"y\": 1,\n",
    "}\n",
    "fig.suptitle(\"Street Network Orientation\", **suptitle_font)\n",
    "fig.tight_layout()\n",
    "fig.subplots_adjust(hspace=0.35)\n",
    "plt.show()"
   ],
   "id": "f3a089cad84cd730",
   "outputs": [],
   "execution_count": null
  },
  {
   "metadata": {},
   "cell_type": "code",
   "source": [
    "fig, ax = plt.subplots(figsize=(20, 20))\n",
    "\n",
    "gdf.plot(ax=ax, color=\"none\", edgecolor='k', linewidth=1.2, zorder=10)\n",
    "\n",
    "for i, (entropy, place, _) in enumerate(Gus):\n",
    "    color = cmap(norm(entropy))\n",
    "    gdf_edges = ox.convert.graph_to_gdfs(street_graphs[place], nodes=False)[\"geometry\"]\n",
    "    gdf_edges.plot(ax=ax, color=color, linewidth=0.5, alpha=0.5)\n",
    "    gdf_nodes = ox.convert.graph_to_gdfs(street_graphs[place], edges=False, node_geometry=False)[[\"x\", \"y\"]]\n",
    "    ax.scatter(x=gdf_nodes[\"x\"], y=gdf_nodes[\"y\"], color=color, zorder=2, s=0.5)\n",
    "\n",
    "fig.tight_layout()\n",
    "fig.subplots_adjust(hspace=0.35)\n",
    "\n",
    "sm.set_array([])\n",
    "plt.rcParams.update({\n",
    "    'font.size': 20,\n",
    "    'font.family': 'DejaVu Sans',\n",
    "    'font.weight': 'normal',\n",
    "})\n",
    "cbar = fig.colorbar(sm, ax=ax, location='left')\n",
    "cbar.set_label(\"Orientation Entropy\", fontsize=30, fontweight='bold')\n",
    "plt.axis(\"off\")\n",
    "fig.savefig(\"orientation_entropy.png\", bbox_inches='tight')\n"
   ],
   "id": "61f4cf4534d297b3",
   "outputs": [],
   "execution_count": null
  }
 ],
 "metadata": {
  "kernelspec": {
   "display_name": "Python 3",
   "language": "python",
   "name": "python3"
  },
  "language_info": {
   "codemirror_mode": {
    "name": "ipython",
    "version": 2
   },
   "file_extension": ".py",
   "mimetype": "text/x-python",
   "name": "python",
   "nbconvert_exporter": "python",
   "pygments_lexer": "ipython2",
   "version": "2.7.6"
  }
 },
 "nbformat": 4,
 "nbformat_minor": 5
}
