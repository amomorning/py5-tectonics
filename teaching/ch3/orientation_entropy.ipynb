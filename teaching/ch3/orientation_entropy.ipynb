{
 "cells": [
  {
   "cell_type": "code",
   "id": "initial_id",
   "metadata": {
    "collapsed": true
   },
   "source": [
    "import matplotlib.pyplot as plt\n",
    "import numpy as np\n",
    "import osmnx as ox\n",
    "\n"
   ],
   "outputs": [],
   "execution_count": null
  },
  {
   "metadata": {},
   "cell_type": "code",
   "source": [
    "places = {\n",
    "    \"Beijing\": \"Beijing, China\",\n",
    "    \"Nanjing\": \"Nanjing, China\",\n",
    "    \"Tokyo\": \"Tokyo, Japan\"\n",
    "}"
   ],
   "id": "c386d6c7ecc8cdb5",
   "outputs": [],
   "execution_count": null
  },
  {
   "metadata": {},
   "cell_type": "code",
   "source": "gdf = ox.geocoder.geocode_to_gdf(list(places.values()))\n",
   "id": "e92c79db51eda355",
   "outputs": [],
   "execution_count": null
  },
  {
   "metadata": {},
   "cell_type": "code",
   "source": [
    "# create figure and axes\n",
    "n = len(places)\n",
    "ncols = int(np.ceil(np.sqrt(n)))\n",
    "nrows = int(np.ceil(n / ncols))\n",
    "figsize = (ncols * 5, nrows * 5)\n",
    "fig, axes = plt.subplots(nrows, ncols, figsize=figsize, subplot_kw={\"projection\": \"polar\"})\n",
    "\n",
    "# plot each city's polar histogram\n",
    "for ax, place in zip(axes.flat, sorted(places.keys())):\n",
    "    print(ox.utils.ts(), place)\n",
    "\n",
    "    # get undirected graphs with edge bearing attributes\n",
    "    G = ox.graph.graph_from_place(place, network_type=\"drive\")\n",
    "    Gu = ox.bearing.add_edge_bearings(ox.convert.to_undirected(G))\n",
    "    fig, ax = ox.plot.plot_orientation(Gu, ax=ax, title=place, area=True)\n",
    "\n",
    "# add figure title and save image\n",
    "suptitle_font = {\n",
    "    \"family\": \"DejaVu Sans\",\n",
    "    \"fontsize\": 60,\n",
    "    \"fontweight\": \"normal\",\n",
    "    \"y\": 1,\n",
    "}\n",
    "fig.suptitle(\"City Street Network Orientation\", **suptitle_font)\n",
    "fig.tight_layout()\n",
    "fig.subplots_adjust(hspace=0.35)\n",
    "fig.savefig(\"images/street-orientations.png\", facecolor=\"w\", dpi=100, bbox_inches=\"tight\")\n",
    "plt.close()"
   ],
   "id": "f3a089cad84cd730",
   "outputs": [],
   "execution_count": null
  }
 ],
 "metadata": {
  "kernelspec": {
   "display_name": "Python 3",
   "language": "python",
   "name": "python3"
  },
  "language_info": {
   "codemirror_mode": {
    "name": "ipython",
    "version": 2
   },
   "file_extension": ".py",
   "mimetype": "text/x-python",
   "name": "python",
   "nbconvert_exporter": "python",
   "pygments_lexer": "ipython2",
   "version": "2.7.6"
  }
 },
 "nbformat": 4,
 "nbformat_minor": 5
}
